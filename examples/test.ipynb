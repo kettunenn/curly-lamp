{
 "cells": [
  {
   "cell_type": "code",
   "execution_count": 4,
   "id": "4600a6d9",
   "metadata": {},
   "outputs": [
    {
     "ename": "KeyError",
     "evalue": "'bearing3'",
     "output_type": "error",
     "traceback": [
      "\u001b[31m---------------------------------------------------------------------------\u001b[39m",
      "\u001b[31mKeyError\u001b[39m                                  Traceback (most recent call last)",
      "\u001b[36mCell\u001b[39m\u001b[36m \u001b[39m\u001b[32mIn[4]\u001b[39m\u001b[32m, line 11\u001b[39m\n\u001b[32m      7\u001b[39m \u001b[38;5;28;01mimport\u001b[39;00m\u001b[38;5;250m \u001b[39m\u001b[34;01mmain\u001b[39;00m\n\u001b[32m      9\u001b[39m bearing = \u001b[32m3\u001b[39m\n\u001b[32m---> \u001b[39m\u001b[32m11\u001b[39m df_feature = \u001b[43mmain\u001b[49m\u001b[43m.\u001b[49m\u001b[43mpreprocessing\u001b[49m\u001b[43m(\u001b[49m\u001b[43mbearing\u001b[49m\u001b[43m)\u001b[49m\n",
      "\u001b[36mFile \u001b[39m\u001b[32m~/Documents/Curly-lamp/main.py:36\u001b[39m, in \u001b[36mpreprocessing\u001b[39m\u001b[34m(x)\u001b[39m\n\u001b[32m     27\u001b[39m \u001b[38;5;28;01mdef\u001b[39;00m\u001b[38;5;250m \u001b[39m\u001b[34mpreprocessing\u001b[39m(x, save_to_csv=\u001b[38;5;28;01mFalse\u001b[39;00m):\n\u001b[32m     29\u001b[39m     bearings = {\n\u001b[32m     30\u001b[39m         \u001b[33m\"\u001b[39m\u001b[33mbearing_1\u001b[39m\u001b[33m\"\u001b[39m: [\u001b[32m0\u001b[39m, \u001b[32m1\u001b[39m],\n\u001b[32m     31\u001b[39m         \u001b[33m\"\u001b[39m\u001b[33mbearing_2\u001b[39m\u001b[33m\"\u001b[39m: [\u001b[32m2\u001b[39m, \u001b[32m3\u001b[39m],\n\u001b[32m     32\u001b[39m         \u001b[33m\"\u001b[39m\u001b[33mbearing_3\u001b[39m\u001b[33m\"\u001b[39m: [\u001b[32m4\u001b[39m, \u001b[32m5\u001b[39m],\n\u001b[32m     33\u001b[39m         \u001b[33m\"\u001b[39m\u001b[33mbearing_4\u001b[39m\u001b[33m\"\u001b[39m: [\u001b[32m6\u001b[39m, \u001b[32m7\u001b[39m]\n\u001b[32m     34\u001b[39m     }\n\u001b[32m---> \u001b[39m\u001b[32m36\u001b[39m     bearing = \u001b[43mbearings\u001b[49m\u001b[43m[\u001b[49m\u001b[33;43mf\u001b[39;49m\u001b[33;43m\"\u001b[39;49m\u001b[33;43mbearing\u001b[39;49m\u001b[38;5;132;43;01m{\u001b[39;49;00m\u001b[43mx\u001b[49m\u001b[38;5;132;43;01m}\u001b[39;49;00m\u001b[33;43m\"\u001b[39;49m\u001b[43m]\u001b[49m\n\u001b[32m     38\u001b[39m     N_tot = \u001b[38;5;28mlen\u001b[39m(df)\n\u001b[32m     39\u001b[39m     N = \u001b[32m20000\u001b[39m    \u001b[38;5;66;03m# Chunk size\u001b[39;00m\n",
      "\u001b[31mKeyError\u001b[39m: 'bearing3'"
     ]
    }
   ],
   "source": [
    "import sys\n",
    "import os\n",
    "\n",
    "# Compute absolute path to the directory you want to import from\n",
    "sys.path.append(os.path.abspath(\"..\"))\n",
    "\n",
    "import main\n",
    "\n",
    "bearing = 3\n",
    "\n",
    "df_feature = main.preprocessing(bearing)\n"
   ]
  }
 ],
 "metadata": {
  "kernelspec": {
   "display_name": "foes032",
   "language": "python",
   "name": "python3"
  },
  "language_info": {
   "codemirror_mode": {
    "name": "ipython",
    "version": 3
   },
   "file_extension": ".py",
   "mimetype": "text/x-python",
   "name": "python",
   "nbconvert_exporter": "python",
   "pygments_lexer": "ipython3",
   "version": "3.13.7"
  }
 },
 "nbformat": 4,
 "nbformat_minor": 5
}
