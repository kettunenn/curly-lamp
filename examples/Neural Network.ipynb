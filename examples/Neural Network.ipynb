{
 "cells": [
  {
   "cell_type": "code",
   "execution_count": null,
   "id": "114f5290",
   "metadata": {},
   "outputs": [
    {
     "ename": "ValueError",
     "evalue": "too many values to unpack (expected 2)",
     "output_type": "error",
     "traceback": [
      "\u001b[31m---------------------------------------------------------------------------\u001b[39m",
      "\u001b[31mValueError\u001b[39m                                Traceback (most recent call last)",
      "\u001b[36mCell\u001b[39m\u001b[36m \u001b[39m\u001b[32mIn[2]\u001b[39m\u001b[32m, line 16\u001b[39m\n\u001b[32m     13\u001b[39m data = \u001b[33mf\u001b[39m\u001b[33m\"\u001b[39m\u001b[33mfeatures_scaled_\u001b[39m\u001b[38;5;132;01m{\u001b[39;00mb\u001b[38;5;132;01m}\u001b[39;00m\u001b[33m.csv\u001b[39m\u001b[33m\"\u001b[39m\n\u001b[32m     15\u001b[39m df = pd.read_csv(os.path.join(data_path, data))\n\u001b[32m---> \u001b[39m\u001b[32m16\u001b[39m X_train, X_test = main.test_train_data(df)\n\u001b[32m     19\u001b[39m history = main.create_model(X_train, X_test)\n\u001b[32m     23\u001b[39m plt.plot(history.history[\u001b[33m\"\u001b[39m\u001b[33mloss\u001b[39m\u001b[33m\"\u001b[39m], label=\u001b[33m\"\u001b[39m\u001b[33mTraining Loss\u001b[39m\u001b[33m\"\u001b[39m)\n",
      "\u001b[31mValueError\u001b[39m: too many values to unpack (expected 2)"
     ]
    }
   ],
   "source": [
    "import sys\n",
    "import os\n",
    "import matplotlib.pyplot as plt\n",
    "import pandas as pd\n",
    "\n",
    "# Compute absolute path to the directory you want to import from\n",
    "sys.path.append(os.path.abspath(\"..\"))\n",
    "\n",
    "import main\n",
    "\n",
    "b = 3\n",
    "data_path = \"../data/IMS/1st_test/\"\n",
    "data = f\"features_scaled_{b}.csv\"\n",
    "\n",
    "df = pd.read_csv(os.path.join(data_path, data))\n",
    "\n",
    "X_train, X_test, X_val = main.test_train_data(df)\n",
    "\n",
    "\n",
    "history = main.create_model(X_train, X_test)\n",
    "\n",
    "\n",
    "\n",
    "plt.plot(history.history[\"loss\"], label=\"Training Loss\")\n",
    "plt.plot(history.history[\"val_loss\"], label=\"Validation Loss\")\n",
    "plt.legend()\n"
   ]
  }
 ],
 "metadata": {
  "kernelspec": {
   "display_name": "foes032",
   "language": "python",
   "name": "python3"
  },
  "language_info": {
   "codemirror_mode": {
    "name": "ipython",
    "version": 3
   },
   "file_extension": ".py",
   "mimetype": "text/x-python",
   "name": "python",
   "nbconvert_exporter": "python",
   "pygments_lexer": "ipython3",
   "version": "3.13.7"
  }
 },
 "nbformat": 4,
 "nbformat_minor": 5
}
